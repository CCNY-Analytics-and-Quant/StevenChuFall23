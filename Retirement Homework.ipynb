{
 "cells": [
  {
   "cell_type": "code",
   "execution_count": null,
   "id": "443edfaf-7cad-4785-a992-53031b9aad0e",
   "metadata": {},
   "outputs": [],
   "source": [
    "# Homework\n",
    "# 1. Convert variables to dynamic inputs - DONE\n",
    "# 2. Add investment returns (assume 14% annual return) to both loops - UNSURE HOW ACCURATE THE MATH IS\n",
    "# 3. For While Loop: a) Estimate desired retirement balance, b) Calculate what age you can retire. - DONE\n",
    "\n",
    "\n",
    "# These inputs are set to datatype float in case the values inputted are not whole numbers/integers. Salary most of the time is a whole number.\n",
    "accountBal = float(input('Please enter your current account balance.'))\n",
    "deposit = float(input('Please enter your contribution every year.'))\n",
    "currentAge = int(input('Please enter your current age.'))\n",
    "# retirementAge = int(input('Please enter the year you intend to retire.'))\n",
    "salary = int(input('Please enter your current or ideal salary made.'))\n",
    "matching = 0\n",
    "riskfreeRate = float(input('Please enter your risk-free rate.')) \n",
    "matchRate = float(input('Please enter your match rate.'))\n",
    "retireMoney = float(input('PLease enter the amount you want to retire with.'))\n",
    "annualReturn = 0.14\n",
    "\n",
    "# for year in range(currentAge, retirementAge):\n",
    "   # salary *= 1 + riskfreeRate\n",
    "   # matching = salary + matchRate\n",
    "   # accountBal += deposit + matching\n",
    "\n",
    "retirementBal = 0\n",
    "while retirementBal < retireMoney:  # This condition checks if the retirement balance is less than the amount that is wanted to retire with \n",
    "    salary *= 1 + riskfreeRate\n",
    "    matching = salary + matchRate\n",
    "    accountBal += deposit + matching\n",
    "    accountBal *= (1 + annualReturn)\n",
    "    currentAge += 1 # Keeps track of the currentAge and adds an age everytime the loop happens\n",
    "    retirementBal = accountBal\n",
    "\n",
    "print(f\"You can retire at {currentAge} with {retirementBal}.\")"
   ]
  }
 ],
 "metadata": {
  "kernelspec": {
   "display_name": "Python 3 (ipykernel)",
   "language": "python",
   "name": "python3"
  },
  "language_info": {
   "codemirror_mode": {
    "name": "ipython",
    "version": 3
   },
   "file_extension": ".py",
   "mimetype": "text/x-python",
   "name": "python",
   "nbconvert_exporter": "python",
   "pygments_lexer": "ipython3",
   "version": "3.9.7"
  }
 },
 "nbformat": 4,
 "nbformat_minor": 5
}
